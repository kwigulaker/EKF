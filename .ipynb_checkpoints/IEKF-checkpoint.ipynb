{
 "cells": [
  {
   "cell_type": "code",
   "execution_count": 1,
   "id": "c62c69e6",
   "metadata": {},
   "outputs": [],
   "source": [
    "import numpy as np\n",
    "from numpy.linalg import inv\n",
    "import matplotlib.pyplot as plt\n",
    "\n",
    "## We base our first iteration on Unicycle Kinematics.\n",
    "## https://www.mathworks.com/help/robotics/ug/mobile-robot-kinematics-equations.html\n",
    "## x = [x,y,heading]^T\n",
    "## u = [wheel_speed, heading_rate (rad/s)]^T\n",
    "\n",
    "\n",
    "## Some constants\n",
    "r = 0.1 # wheel radius\n",
    "\n",
    "## Define our model\n",
    "# x_dot = A*x + B*u\n",
    "A = np.identity(3)\n",
    "def B(r,x):\n",
    "    B = np.array([[r*np.cos(x[2]), 0],\n",
    "                  [r*np.sin(x[2]), 0],\n",
    "                  [0, 1]])\n",
    "    return B"
   ]
  },
  {
   "cell_type": "code",
   "execution_count": 115,
   "id": "f22c3a38",
   "metadata": {},
   "outputs": [],
   "source": [
    "## Tuning parameters\n",
    "v_k = np.array([1.0,1.0,1.0]) # process noise\n",
    "\n",
    "w_k = np.array([1.0,1.0,1.0]) # sensor noise\n",
    "\n",
    "Q_k = np.array([[0.5,   0,   0], # model noise covariance matrix\n",
    "                [  0, 0.5,   0],\n",
    "                [  0,   0, 0.5]])\n",
    "\n",
    "H_k = np.array([[1.0,  0,   0], # observation matrix (also known as G_k, M_k)\n",
    "               [  0, 1.0,   0],\n",
    "               [  0,  0, 1.0]])\n",
    "\n",
    "R_k = np.array([[1.0,   0,    0], # observation/estimate noise covariance matrix\n",
    "                [  0, 1.0,    0],\n",
    "                [  0,    0, 1.0]])\n"
   ]
  },
  {
   "cell_type": "code",
   "execution_count": 119,
   "id": "dee0be9d",
   "metadata": {},
   "outputs": [],
   "source": [
    "## IEKF function\n",
    "def IEKF(z_k, x_k_min_1, u_k_min_1, P_k_min_1, T,iterative):\n",
    "    \n",
    "    # z_k: observation vector\n",
    "    # x_k_min_1: previous state estimate\n",
    "    # u_k_min_1: previous input\n",
    "    # P_k_min_1: previous covariance matrix\n",
    "    # T: time\n",
    "    \n",
    "    # Prediction phase\n",
    "    x_k = A @ x_k_min_1 + B(r,x_k_min_1) @ (u_k_min_1) + w_k # predicted state estimate (x_frown)\n",
    "    \n",
    "    P_k = A @ P_k_min_1 @ A.T + Q_k # updated covariance matrix (pre-correction)\n",
    "    \n",
    "    \n",
    "    \n",
    "    # Correction phase (EKF)\n",
    "    S_k = H_k @ P_k @ H_k.T + R_k\n",
    "    \n",
    "    y_k_hat = z_k - (H_k @ x_k + v_k) # measurement estimate\n",
    "    \n",
    "    K_k = P_k @ H_k.T @ inv(S_k) # near-optimal Kalman gain\n",
    "    \n",
    "    x_k_hat = x_k + K_k @ y_k_hat # updated state estimate prediction\n",
    "    \n",
    "    P_k = (np.identity(3) - K_k @ H_k) @ P_k # updated covariance matrix (post-correction)\n",
    "    \n",
    "    \n",
    "    # Iterative phase (IEKF)\n",
    "    if(iterative):\n",
    "        x_op_k = x_k\n",
    "\n",
    "        for i in range(10):\n",
    "            x_k_hat = x_k + K_k @ (z_k - (H_k @ x_op_k + v_k) - H_k @ (x_k - x_op_k)) # updated state estimate prediction\n",
    "            x_op_k = x_k_hat\n",
    "    \n",
    "    # Returning state estimate and covariance\n",
    "    return x_k_hat, P_k"
   ]
  },
  {
   "cell_type": "code",
   "execution_count": 120,
   "id": "2db2295c",
   "metadata": {},
   "outputs": [],
   "source": [
    "def simulate_robot():\n",
    "    \n",
    "    # Constants\n",
    "    t_0 = 1 # time interval start\n",
    "    T = 1 # total time interval\n",
    "    \n",
    "    # Initial values\n",
    "    z_k = [] # sensor measurements\n",
    "    x = []\n",
    "    y = []\n",
    "    yaw = []\n",
    "    \n",
    "    \n",
    "    for i in range(0,25):\n",
    "        new_x = i*0.1\n",
    "        new_y = new_x*new_x\n",
    "        z_k.append([new_x,new_y,0.0])\n",
    "        x.append(new_x)\n",
    "        y.append(new_y)\n",
    "        yaw.append(0.0)\n",
    "    \n",
    "    \n",
    "    \n",
    "    x_k_min_1 = np.array([0.0,0.0,0.0]) # initial state\n",
    "    u_k_min_1 = np.array([0.0,0.0]) # initial input\n",
    "    P_k_min_1 = 5*np.array([[0.1, 0, 0], # initial covariance\n",
    "                          [0, 0.1, 0],\n",
    "                          [0, 0, 0.1]])\n",
    "    \n",
    "    x_hat = []\n",
    "    y_hat = []\n",
    "    yaw_hat = []\n",
    "    \n",
    "    should_iterate = True\n",
    "    \n",
    "    #Iterate\n",
    "    for k, z_k_obs in enumerate(z_k,start=t_0):\n",
    "        \n",
    "        x_k_hat, P_k = IEKF(z_k_obs, x_k_min_1,u_k_min_1,P_k_min_1,T,should_iterate)\n",
    "         \n",
    "        # Get ready for the next timestep by updating the variable values\n",
    "        x_k_min_1 = x_k_hat\n",
    "        P_k_min_1 = P_k\n",
    "        \n",
    "        x_hat.append(x_k_hat[0])\n",
    "        y_hat.append(x_k_hat[1])\n",
    "        yaw_hat.append(x_k_hat[2])\n",
    "    \n",
    "\n",
    "    plt.plot(x, y, label=\"trajectory\")\n",
    "    plt.plot(x_hat,y_hat, label=\"trajectory_hat\")\n",
    "    plt.legend()\n",
    "    plt.show()\n",
    "    plt.plot(yaw, label=\"yaw\")\n",
    "    plt.plot(yaw_hat, label=\"yaw_hat\")\n",
    "    plt.legend()\n",
    "    plt.show()"
   ]
  },
  {
   "cell_type": "code",
   "execution_count": 121,
   "id": "89449d8f",
   "metadata": {},
   "outputs": [
    {
     "data": {
      "image/png": "[encoded data removed]",
      "text/plain": [
       "<Figure size 640x480 with 1 Axes>"
      ]
     },
     "metadata": {},
     "output_type": "display_data"
    },
    {
     "data": {
      "image/png": "[encoded data removed]",
      "text/plain": [
       "<Figure size 640x480 with 1 Axes>"
      ]
     },
     "metadata": {},
     "output_type": "display_data"
    }
   ],
   "source": [
    "simulate_robot()"
   ]
  },
  {
   "cell_type": "code",
   "execution_count": null,
   "id": "36e63762",
   "metadata": {},
   "outputs": [],
   "source": []
  }
 ],
 "metadata": {
  "kernelspec": {
   "display_name": "Python 3 (ipykernel)",
   "language": "python",
   "name": "python3"
  },
  "language_info": {
   "codemirror_mode": {
    "name": "ipython",
    "version": 3
   },
   "file_extension": ".py",
   "mimetype": "text/x-python",
   "name": "python",
   "nbconvert_exporter": "python",
   "pygments_lexer": "ipython3",
   "version": "3.10.8"
  }
 },
 "nbformat": 4,
 "nbformat_minor": 5
}
