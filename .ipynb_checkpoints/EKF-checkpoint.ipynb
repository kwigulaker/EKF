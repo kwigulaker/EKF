{
 "cells": [
  {
   "cell_type": "code",
   "execution_count": 1,
   "id": "840aa788",
   "metadata": {},
   "outputs": [],
   "source": [
    "import numpy as np\n",
    "from numpy.linalg import inv\n",
    "import matplotlib.pyplot as plt\n",
    "\n",
    "## We base our first iteration on Unicycle Kinematics.\n",
    "## https://www.mathworks.com/help/robotics/ug/mobile-robot-kinematics-equations.html\n",
    "## x = [x,y,heading]^T\n",
    "## u = [wheel_speed, heading_rate (rad/s)]^T\n",
    "\n",
    "\n",
    "## Some constants\n",
    "r = 0.1 # wheel radius\n",
    "\n",
    "## Define our model\n",
    "# x_dot = A*x + B*u\n",
    "A = np.identity(3)\n",
    "def B(r,x):\n",
    "    B = np.array([[r*np.cos(x[2]), 0],\n",
    "                  [r*np.sin(x[2]), 0],\n",
    "                  [0, 1]])\n",
    "    return B\n"
   ]
  },
  {
   "cell_type": "code",
   "execution_count": 2,
   "id": "2ca10839",
   "metadata": {},
   "outputs": [],
   "source": [
    "## Tuning parameters\n",
    "v_k = np.array([0.01,0.01,0.003]) # process noise\n",
    "\n",
    "w_k = np.array([0.05,0.05,0.05]) # sensor noise\n",
    "\n",
    "Q_k = np.array([[0.1,   0,   0], # model noise covariance matrix\n",
    "                [  0, 0.1,   0],\n",
    "                [  0,   0, 0.1]])\n",
    "\n",
    "H_k = np.array([[1.0,  0,   0], # observation matrix\n",
    "               [  0, 1.0,   0],\n",
    "               [  0,  0, 1.0]])\n",
    "\n",
    "R_k = np.array([[1.0,   0,    0], # observation/estimate noise covariance matrix\n",
    "                [  0, 1.0,    0],\n",
    "                [  0,    0, 1.0]])\n"
   ]
  },
  {
   "cell_type": "code",
   "execution_count": 3,
   "id": "7e13183c",
   "metadata": {},
   "outputs": [],
   "source": [
    "## EKF function\n",
    "def EKF(z_k, x_k_min_1, u_k_min_1, P_k_min_1, T):\n",
    "    \n",
    "    # z_k: observation vector\n",
    "    # x_k_min_1: previous state estimate\n",
    "    # u_k_min_1: previous input\n",
    "    # P_k_min_1: previous covariance matrix\n",
    "    # T: time\n",
    "    \n",
    "    # Prediction phase\n",
    "    x_k = A @ x_k_min_1 + B(r,x_k_min_1) @ (u_k_min_1) + w_k # predicted state estimate\n",
    "    \n",
    "    P_k = A @ P_k_min_1 @ A.T + Q_k # updated covariance matrix (pre-correction)\n",
    "    \n",
    "    \n",
    "    # Correction phase\n",
    "    S_k = H_k @ P_k @ H_k.T + R_k\n",
    "    \n",
    "    y_k_hat = z_k - (H_k @ x_k + v_k) # measurement estimate\n",
    "    \n",
    "    K_k = P_k @ H_k.T @ inv(S_k) # near-optimal Kalman gain\n",
    "    \n",
    "    x_k_hat = x_k + K_k @ y_k_hat # updated state estimate prediction\n",
    "    \n",
    "    P_k = (np.identity(3) - K_k @ H_k) @ P_k # updated covariance matrix (post-correction)\n",
    "    \n",
    "    # Returning state estimate and covariance\n",
    "    return x_k_hat, P_k"
   ]
  },
  {
   "cell_type": "code",
   "execution_count": 6,
   "id": "1ae36538",
   "metadata": {},
   "outputs": [],
   "source": [
    "def simulate_robot():\n",
    "    \n",
    "    # Constants\n",
    "    t_0 = 1 # time interval start\n",
    "    T = 1 # total time interval\n",
    "    \n",
    "    # Initial values\n",
    "    z_k = np.array([[4.721,0.143,0.006], # k=1\n",
    "                    [9.353,0.284,0.007], # k=2\n",
    "                    [14.773,0.422,0.009],# k=3\n",
    "                    [18.246,0.555,0.011], # k=4\n",
    "                    [22.609,0.715,0.012]])# k=5\n",
    "    \n",
    "    \n",
    "    x_k_min_1 = np.array([0.0,0.0,0.0]) # initial state\n",
    "    u_k_min_1 = np.array([10.0,1.0]) # initial input\n",
    "    P_k_min_1 = np.array([[0.1, 0, 0], # initial covariance\n",
    "                          [0, 0.1, 0],\n",
    "                          [0, 0, 0.1]])\n",
    "    \n",
    "    x = []\n",
    "    y = []\n",
    "    \n",
    "    #Iterate\n",
    "    for k, z_k_obs in enumerate(z_k,start=t_0):\n",
    "        \n",
    "        x_k_hat, P_k = EKF(z_k_obs, x_k_min_1,u_k_min_1,P_k_min_1,T)\n",
    "         \n",
    "        # Get ready for the next timestep by updating the variable values\n",
    "        x_k_min_1 = x_k_hat\n",
    "        P_k_min_1 = P_k\n",
    "        \n",
    "        x.append(x_k_hat[0])\n",
    "        y.append(x_k_hat[1])\n",
    "    \n",
    "    fig, ax = plt.subplots()\n",
    "\n",
    "    ax.plot(x, y, linewidth=2.0)\n",
    "\n",
    "    ax.set(xlim=(0, 8), xticks=np.arange(1, 8),\n",
    "           ylim=(0, 8), yticks=np.arange(1, 8))\n",
    "\n",
    "    plt.show()"
   ]
  },
  {
   "cell_type": "code",
   "execution_count": 7,
   "id": "3b4ba667",
   "metadata": {},
   "outputs": [
    {
     "data": {
      "image/png": "[encoded data removed]",
      "text/plain": [
       "<Figure size 640x480 with 1 Axes>"
      ]
     },
     "metadata": {},
     "output_type": "display_data"
    }
   ],
   "source": [
    "simulate_robot()"
   ]
  },
  {
   "cell_type": "code",
   "execution_count": null,
   "id": "20337810",
   "metadata": {},
   "outputs": [],
   "source": []
  }
 ],
 "metadata": {
  "kernelspec": {
   "display_name": "Python 3 (ipykernel)",
   "language": "python",
   "name": "python3"
  },
  "language_info": {
   "codemirror_mode": {
    "name": "ipython",
    "version": 3
   },
   "file_extension": ".py",
   "mimetype": "text/x-python",
   "name": "python",
   "nbconvert_exporter": "python",
   "pygments_lexer": "ipython3",
   "version": "3.10.7"
  }
 },
 "nbformat": 4,
 "nbformat_minor": 5
}
